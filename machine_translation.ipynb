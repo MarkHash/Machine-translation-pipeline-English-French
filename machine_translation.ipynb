{
  "cells": [
    {
      "cell_type": "markdown",
      "metadata": {
        "collapsed": true,
        "id": "s3-9u8a9bUZn"
      },
      "source": [
        "# Artificial Intelligence Nanodegree\n",
        "## Machine Translation Project\n",
        "In this notebook, sections that end with **'(IMPLEMENTATION)'** in the header indicate that the following blocks of code will require additional functionality which you must provide. Please be sure to read the instructions carefully!\n",
        "\n",
        "## Introduction\n",
        "In this notebook, you will build a deep neural network that functions as part of an end-to-end machine translation pipeline. Your completed pipeline will accept English text as input and return the French translation.\n",
        "\n",
        "- **Preprocess** - You'll convert text to sequence of integers.\n",
        "- **Models** Create models which accepts a sequence of integers as input and returns a probability distribution over possible translations. After learning about the basic types of neural networks that are often used for machine translation, you will engage in your own investigations, to design your own model!\n",
        "- **Prediction** Run the model on English text."
      ]
    },
    {
      "cell_type": "code",
      "source": [
        "from google.colab import drive\n",
        "drive.mount('/content/drive')\n",
        "!cp -r /content/drive/MyDrive/Assignments/Udacity_NLP/2.7-Machine-Translation/* ."
      ],
      "metadata": {
        "colab": {
          "base_uri": "https://localhost:8080/"
        },
        "id": "A6uOb_VEcAk0",
        "outputId": "60c01319-62e9-4825-90d4-39cb47304911"
      },
      "execution_count": 1,
      "outputs": [
        {
          "output_type": "stream",
          "name": "stdout",
          "text": [
            "Mounted at /content/drive\n"
          ]
        }
      ]
    },
    {
      "cell_type": "code",
      "execution_count": 2,
      "metadata": {
        "id": "l6GbuK-qbUZq"
      },
      "outputs": [],
      "source": [
        "%load_ext autoreload\n",
        "# %aimport helper, tests\n",
        "%autoreload 1"
      ]
    },
    {
      "cell_type": "code",
      "execution_count": 3,
      "metadata": {
        "id": "70_rNxzcbUZr"
      },
      "outputs": [],
      "source": [
        "import collections\n",
        "\n",
        "import helper\n",
        "import numpy as np\n",
        "import project_tests as tests\n",
        "\n",
        "from keras.preprocessing.text import Tokenizer\n",
        "from keras.preprocessing.sequence import pad_sequences\n",
        "from keras.models import Model, Sequential\n",
        "from keras.layers import GRU, Input, Dense, TimeDistributed, Activation, RepeatVector, Bidirectional\n",
        "from keras.layers.embeddings import Embedding\n",
        "from tensorflow.keras.optimizers import Adam\n",
        "from keras.losses import sparse_categorical_crossentropy"
      ]
    },
    {
      "cell_type": "markdown",
      "metadata": {
        "id": "wzwLW43ibUZr"
      },
      "source": [
        "### Verify access to the GPU\n",
        "The following test applies only if you expect to be using a GPU, e.g., while running in a Udacity Workspace or using an AWS instance with GPU support. Run the next cell, and verify that the device_type is \"GPU\".\n",
        "- If the device is not GPU & you are running from a Udacity Workspace, then save your workspace with the icon at the top, then click \"enable\" at the bottom of the workspace.\n",
        "- If the device is not GPU & you are running from an AWS instance, then refer to the cloud computing instructions in the classroom to verify your setup steps."
      ]
    },
    {
      "cell_type": "code",
      "execution_count": 4,
      "metadata": {
        "colab": {
          "base_uri": "https://localhost:8080/"
        },
        "id": "fR7dDmf-bUZs",
        "outputId": "fc188e21-0cab-454e-82eb-d5ab5c12acbe"
      },
      "outputs": [
        {
          "output_type": "stream",
          "name": "stdout",
          "text": [
            "[name: \"/device:CPU:0\"\n",
            "device_type: \"CPU\"\n",
            "memory_limit: 268435456\n",
            "locality {\n",
            "}\n",
            "incarnation: 3553178451838192439\n",
            "xla_global_id: -1\n",
            ", name: \"/device:GPU:0\"\n",
            "device_type: \"GPU\"\n",
            "memory_limit: 14444920832\n",
            "locality {\n",
            "  bus_id: 1\n",
            "  links {\n",
            "  }\n",
            "}\n",
            "incarnation: 11197109769465750475\n",
            "physical_device_desc: \"device: 0, name: Tesla T4, pci bus id: 0000:00:04.0, compute capability: 7.5\"\n",
            "xla_global_id: 416903419\n",
            "]\n"
          ]
        }
      ],
      "source": [
        "from tensorflow.python.client import device_lib\n",
        "print(device_lib.list_local_devices())"
      ]
    },
    {
      "cell_type": "markdown",
      "metadata": {
        "id": "-mqPQ55HbUZs"
      },
      "source": [
        "## Dataset\n",
        "We begin by investigating the dataset that will be used to train and evaluate your pipeline.  The most common datasets used for machine translation are from [WMT](http://www.statmt.org/).  However, that will take a long time to train a neural network on.  We'll be using a dataset we created for this project that contains a small vocabulary.  You'll be able to train your model in a reasonable time with this dataset.\n",
        "### Load Data\n",
        "The data is located in `data/small_vocab_en` and `data/small_vocab_fr`. The `small_vocab_en` file contains English sentences with their French translations in the `small_vocab_fr` file. Load the English and French data from these files from running the cell below."
      ]
    },
    {
      "cell_type": "code",
      "execution_count": 5,
      "metadata": {
        "colab": {
          "base_uri": "https://localhost:8080/"
        },
        "id": "CwsROcQabUZt",
        "outputId": "30f0db12-92c2-4fa1-94bb-86e0f83c0211"
      },
      "outputs": [
        {
          "output_type": "stream",
          "name": "stdout",
          "text": [
            "Dataset Loaded\n"
          ]
        }
      ],
      "source": [
        "# Load English data\n",
        "english_sentences = helper.load_data('/content/data/small_vocab_en')\n",
        "# Load French data\n",
        "french_sentences = helper.load_data('/content/data/small_vocab_fr')\n",
        "\n",
        "print('Dataset Loaded')"
      ]
    },
    {
      "cell_type": "markdown",
      "metadata": {
        "id": "Gr6MXXMEbUZt"
      },
      "source": [
        "### Files\n",
        "Each line in `small_vocab_en` contains an English sentence with the respective translation in each line of `small_vocab_fr`.  View the first two lines from each file."
      ]
    },
    {
      "cell_type": "code",
      "execution_count": 6,
      "metadata": {
        "colab": {
          "base_uri": "https://localhost:8080/"
        },
        "id": "M26v11hebUZu",
        "outputId": "d0f49178-9cd8-4cba-c54d-5d4e3fc231fe"
      },
      "outputs": [
        {
          "output_type": "stream",
          "name": "stdout",
          "text": [
            "small_vocab_en Line 1:  new jersey is sometimes quiet during autumn , and it is snowy in april .\n",
            "small_vocab_fr Line 1:  new jersey est parfois calme pendant l' automne , et il est neigeux en avril .\n",
            "small_vocab_en Line 2:  the united states is usually chilly during july , and it is usually freezing in november .\n",
            "small_vocab_fr Line 2:  les états-unis est généralement froid en juillet , et il gèle habituellement en novembre .\n"
          ]
        }
      ],
      "source": [
        "for sample_i in range(2):\n",
        "    print('small_vocab_en Line {}:  {}'.format(sample_i + 1, english_sentences[sample_i]))\n",
        "    print('small_vocab_fr Line {}:  {}'.format(sample_i + 1, french_sentences[sample_i]))"
      ]
    },
    {
      "cell_type": "markdown",
      "metadata": {
        "id": "V4n8X7VQbUZu"
      },
      "source": [
        "From looking at the sentences, you can see they have been preprocessed already.  The puncuations have been delimited using spaces. All the text have been converted to lowercase.  This should save you some time, but the text requires more preprocessing.\n",
        "### Vocabulary\n",
        "The complexity of the problem is determined by the complexity of the vocabulary.  A more complex vocabulary is a more complex problem.  Let's look at the complexity of the dataset we'll be working with."
      ]
    },
    {
      "cell_type": "code",
      "execution_count": 7,
      "metadata": {
        "colab": {
          "base_uri": "https://localhost:8080/"
        },
        "id": "uYTZedLMbUZv",
        "outputId": "5de66c52-1cb6-4200-fde2-c1dace09e435"
      },
      "outputs": [
        {
          "output_type": "stream",
          "name": "stdout",
          "text": [
            "1823250 English words.\n",
            "227 unique English words.\n",
            "10 Most common words in the English dataset:\n",
            "\"is\" \",\" \".\" \"in\" \"it\" \"during\" \"the\" \"but\" \"and\" \"sometimes\"\n",
            "\n",
            "1961295 French words.\n",
            "355 unique French words.\n",
            "10 Most common words in the French dataset:\n",
            "\"est\" \".\" \",\" \"en\" \"il\" \"les\" \"mais\" \"et\" \"la\" \"parfois\"\n"
          ]
        }
      ],
      "source": [
        "english_words_counter = collections.Counter([word for sentence in english_sentences for word in sentence.split()])\n",
        "french_words_counter = collections.Counter([word for sentence in french_sentences for word in sentence.split()])\n",
        "\n",
        "print('{} English words.'.format(len([word for sentence in english_sentences for word in sentence.split()])))\n",
        "print('{} unique English words.'.format(len(english_words_counter)))\n",
        "print('10 Most common words in the English dataset:')\n",
        "print('\"' + '\" \"'.join(list(zip(*english_words_counter.most_common(10)))[0]) + '\"')\n",
        "print()\n",
        "print('{} French words.'.format(len([word for sentence in french_sentences for word in sentence.split()])))\n",
        "print('{} unique French words.'.format(len(french_words_counter)))\n",
        "print('10 Most common words in the French dataset:')\n",
        "print('\"' + '\" \"'.join(list(zip(*french_words_counter.most_common(10)))[0]) + '\"')"
      ]
    },
    {
      "cell_type": "markdown",
      "metadata": {
        "id": "U7p6hd6LbUZv"
      },
      "source": [
        "For comparison, _Alice's Adventures in Wonderland_ contains 2,766 unique words of a total of 15,500 words.\n",
        "## Preprocess\n",
        "For this project, you won't use text data as input to your model. Instead, you'll convert the text into sequences of integers using the following preprocess methods:\n",
        "1. Tokenize the words into ids\n",
        "2. Add padding to make all the sequences the same length.\n",
        "\n",
        "Time to start preprocessing the data...\n",
        "### Tokenize (IMPLEMENTATION)\n",
        "For a neural network to predict on text data, it first has to be turned into data it can understand. Text data like \"dog\" is a sequence of ASCII character encodings.  Since a neural network is a series of multiplication and addition operations, the input data needs to be number(s).\n",
        "\n",
        "We can turn each character into a number or each word into a number.  These are called character and word ids, respectively.  Character ids are used for character level models that generate text predictions for each character.  A word level model uses word ids that generate text predictions for each word.  Word level models tend to learn better, since they are lower in complexity, so we'll use those.\n",
        "\n",
        "Turn each sentence into a sequence of words ids using Keras's [`Tokenizer`](https://keras.io/preprocessing/text/#tokenizer) function. Use this function to tokenize `english_sentences` and `french_sentences` in the cell below.\n",
        "\n",
        "Running the cell will run `tokenize` on sample data and show output for debugging."
      ]
    },
    {
      "cell_type": "code",
      "execution_count": 8,
      "metadata": {
        "colab": {
          "base_uri": "https://localhost:8080/"
        },
        "id": "6JO779EBbUZv",
        "outputId": "608ca767-a630-4355-9b3d-bca87135ef6b"
      },
      "outputs": [
        {
          "output_type": "stream",
          "name": "stdout",
          "text": [
            "{'the': 1, 'quick': 2, 'a': 3, 'brown': 4, 'fox': 5, 'jumps': 6, 'over': 7, 'lazy': 8, 'dog': 9, 'by': 10, 'jove': 11, 'my': 12, 'study': 13, 'of': 14, 'lexicography': 15, 'won': 16, 'prize': 17, 'this': 18, 'is': 19, 'short': 20, 'sentence': 21}\n",
            "\n",
            "Sequence 1 in x\n",
            "  Input:  The quick brown fox jumps over the lazy dog .\n",
            "  Output: [1, 2, 4, 5, 6, 7, 1, 8, 9]\n",
            "Sequence 2 in x\n",
            "  Input:  By Jove , my quick study of lexicography won a prize .\n",
            "  Output: [10, 11, 12, 2, 13, 14, 15, 16, 3, 17]\n",
            "Sequence 3 in x\n",
            "  Input:  This is a short sentence .\n",
            "  Output: [18, 19, 3, 20, 21]\n"
          ]
        }
      ],
      "source": [
        "def tokenize(x):\n",
        "    \"\"\"\n",
        "    Tokenize x\n",
        "    :param x: List of sentences/strings to be tokenized\n",
        "    :return: Tuple of (tokenized x data, tokenizeor used to tokenize x)\n",
        "    \"\"\"\n",
        "    # TODO: Implement\n",
        "    x_tk = Tokenizer(\n",
        "        num_words=None,\n",
        "        # filters='!\"#$%&()*+,-./:;<=>?@[\\\\]^_`{|}~\\t\\n',\n",
        "        lower=True,\n",
        "        split=' ',\n",
        "        char_level=False,\n",
        "        oov_token=None\n",
        "    )\n",
        "    x_tk.fit_on_texts(x)\n",
        "    return x_tk.texts_to_sequences(x), x_tk\n",
        "tests.test_tokenize(tokenize)\n",
        "\n",
        "# Tokenize Example output\n",
        "text_sentences = [\n",
        "    'The quick brown fox jumps over the lazy dog .',\n",
        "    'By Jove , my quick study of lexicography won a prize .',\n",
        "    'This is a short sentence .']\n",
        "text_tokenized, text_tokenizer = tokenize(text_sentences)\n",
        "print(text_tokenizer.word_index)\n",
        "print()\n",
        "for sample_i, (sent, token_sent) in enumerate(zip(text_sentences, text_tokenized)):\n",
        "    print('Sequence {} in x'.format(sample_i + 1))\n",
        "    print('  Input:  {}'.format(sent))\n",
        "    print('  Output: {}'.format(token_sent))"
      ]
    },
    {
      "cell_type": "markdown",
      "metadata": {
        "id": "vY2F6In2bUZv"
      },
      "source": [
        "### Padding (IMPLEMENTATION)\n",
        "When batching the sequence of word ids together, each sequence needs to be the same length.  Since sentences are dynamic in length, we can add padding to the end of the sequences to make them the same length.\n",
        "\n",
        "Make sure all the English sequences have the same length and all the French sequences have the same length by adding padding to the **end** of each sequence using Keras's [`pad_sequences`](https://keras.io/preprocessing/sequence/#pad_sequences) function."
      ]
    },
    {
      "cell_type": "code",
      "execution_count": 9,
      "metadata": {
        "colab": {
          "base_uri": "https://localhost:8080/"
        },
        "id": "eUd_ht7kbUZw",
        "outputId": "8254839a-298b-4753-af7c-ed61fa486c7c"
      },
      "outputs": [
        {
          "output_type": "stream",
          "name": "stdout",
          "text": [
            "Sequence 1 in x\n",
            "  Input:  [1 2 4 5 6 7 1 8 9]\n",
            "  Output: [1 2 4 5 6 7 1 8 9 0]\n",
            "Sequence 2 in x\n",
            "  Input:  [10 11 12  2 13 14 15 16  3 17]\n",
            "  Output: [10 11 12  2 13 14 15 16  3 17]\n",
            "Sequence 3 in x\n",
            "  Input:  [18 19  3 20 21]\n",
            "  Output: [18 19  3 20 21  0  0  0  0  0]\n"
          ]
        }
      ],
      "source": [
        "def pad(x, length=None):\n",
        "    \"\"\"\n",
        "    Pad x\n",
        "    :param x: List of sequences.\n",
        "    :param length: Length to pad the sequence to.  If None, use length of longest sequence in x.\n",
        "    :return: Padded numpy array of sequences\n",
        "    \"\"\"\n",
        "    # TODO: Implement\n",
        "    if length is None:\n",
        "        length = max([len(sentence) for sentence in x])\n",
        "    return pad_sequences(x, maxlen=length, padding='post')\n",
        "tests.test_pad(pad)\n",
        "\n",
        "# Pad Tokenized output\n",
        "test_pad = pad(text_tokenized)\n",
        "for sample_i, (token_sent, pad_sent) in enumerate(zip(text_tokenized, test_pad)):\n",
        "    print('Sequence {} in x'.format(sample_i + 1))\n",
        "    print('  Input:  {}'.format(np.array(token_sent)))\n",
        "    print('  Output: {}'.format(pad_sent))"
      ]
    },
    {
      "cell_type": "markdown",
      "metadata": {
        "id": "VQJoufPgbUZw"
      },
      "source": [
        "### Preprocess Pipeline\n",
        "Your focus for this project is to build neural network architecture, so we won't ask you to create a preprocess pipeline.  Instead, we've provided you with the implementation of the `preprocess` function."
      ]
    },
    {
      "cell_type": "code",
      "execution_count": 10,
      "metadata": {
        "colab": {
          "base_uri": "https://localhost:8080/"
        },
        "id": "-2PvJPKkbUZw",
        "outputId": "61895a28-3690-42ba-b630-4f83327b2320"
      },
      "outputs": [
        {
          "output_type": "stream",
          "name": "stdout",
          "text": [
            "Data Preprocessed\n",
            "Max English sentence length: 15\n",
            "Max French sentence length: 21\n",
            "English vocabulary size: 199\n",
            "French vocabulary size: 344\n"
          ]
        }
      ],
      "source": [
        "def preprocess(x, y):\n",
        "    \"\"\"\n",
        "    Preprocess x and y\n",
        "    :param x: Feature List of sentences\n",
        "    :param y: Label List of sentences\n",
        "    :return: Tuple of (Preprocessed x, Preprocessed y, x tokenizer, y tokenizer)\n",
        "    \"\"\"\n",
        "    preprocess_x, x_tk = tokenize(x)\n",
        "    preprocess_y, y_tk = tokenize(y)\n",
        "\n",
        "    preprocess_x = pad(preprocess_x)\n",
        "    preprocess_y = pad(preprocess_y)\n",
        "\n",
        "    # Keras's sparse_categorical_crossentropy function requires the labels to be in 3 dimensions\n",
        "    preprocess_y = preprocess_y.reshape(*preprocess_y.shape, 1)\n",
        "\n",
        "    return preprocess_x, preprocess_y, x_tk, y_tk\n",
        "\n",
        "preproc_english_sentences, preproc_french_sentences, english_tokenizer, french_tokenizer =\\\n",
        "    preprocess(english_sentences, french_sentences)\n",
        "    \n",
        "max_english_sequence_length = preproc_english_sentences.shape[1]\n",
        "max_french_sequence_length = preproc_french_sentences.shape[1]\n",
        "english_vocab_size = len(english_tokenizer.word_index)\n",
        "french_vocab_size = len(french_tokenizer.word_index)\n",
        "\n",
        "print('Data Preprocessed')\n",
        "print(\"Max English sentence length:\", max_english_sequence_length)\n",
        "print(\"Max French sentence length:\", max_french_sequence_length)\n",
        "print(\"English vocabulary size:\", english_vocab_size)\n",
        "print(\"French vocabulary size:\", french_vocab_size)"
      ]
    },
    {
      "cell_type": "markdown",
      "metadata": {
        "id": "1NNDpSdXbUZw"
      },
      "source": [
        "## Models\n",
        "In this section, you will experiment with various neural network architectures.\n",
        "You will begin by training four relatively simple architectures.\n",
        "- Model 1 is a simple RNN\n",
        "- Model 2 is a RNN with Embedding\n",
        "- Model 3 is a Bidirectional RNN\n",
        "- Model 4 is an Encoder-Decoder RNN\n",
        "\n",
        "After experimenting with the four simple architectures, you will construct a deeper architecture that is designed to outperform all four models.\n",
        "### Ids Back to Text\n",
        "The neural network will be translating the input to words ids, which isn't the final form we want.  We want the French translation.  The function `logits_to_text` will bridge the gab between the logits from the neural network to the French translation.  You'll be using this function to better understand the output of the neural network."
      ]
    },
    {
      "cell_type": "code",
      "execution_count": 11,
      "metadata": {
        "colab": {
          "base_uri": "https://localhost:8080/"
        },
        "id": "BGoETCz6bUZx",
        "outputId": "b941ac1a-3d0c-479b-da25-47b41dbfa3a1"
      },
      "outputs": [
        {
          "output_type": "stream",
          "name": "stdout",
          "text": [
            "`logits_to_text` function loaded.\n"
          ]
        }
      ],
      "source": [
        "def logits_to_text(logits, tokenizer):\n",
        "    \"\"\"\n",
        "    Turn logits from a neural network into text using the tokenizer\n",
        "    :param logits: Logits from a neural network\n",
        "    :param tokenizer: Keras Tokenizer fit on the labels\n",
        "    :return: String that represents the text of the logits\n",
        "    \"\"\"\n",
        "    index_to_words = {id: word for word, id in tokenizer.word_index.items()}\n",
        "    index_to_words[0] = '<PAD>'\n",
        "\n",
        "    return ' '.join([index_to_words[prediction] for prediction in np.argmax(logits, 1)])\n",
        "\n",
        "print('`logits_to_text` function loaded.')"
      ]
    },
    {
      "cell_type": "markdown",
      "metadata": {
        "id": "uVOnqZVcbUZx"
      },
      "source": [
        "### Model 1: RNN (IMPLEMENTATION)\n",
        "![RNN](images/rnn.png)\n",
        "A basic RNN model is a good baseline for sequence data.  In this model, you'll build a RNN that translates English to French."
      ]
    },
    {
      "cell_type": "code",
      "execution_count": 12,
      "metadata": {
        "colab": {
          "base_uri": "https://localhost:8080/"
        },
        "id": "w8hvWl32bUZx",
        "outputId": "700b5068-77cd-498a-d702-c3b863e253e5"
      },
      "outputs": [
        {
          "output_type": "stream",
          "name": "stdout",
          "text": [
            "Epoch 1/10\n",
            "108/108 [==============================] - 9s 26ms/step - loss: 2.5619 - accuracy: 0.4766 - val_loss: 1.9139 - val_accuracy: 0.5538\n",
            "Epoch 2/10\n",
            "108/108 [==============================] - 2s 22ms/step - loss: 1.6681 - accuracy: 0.5813 - val_loss: 1.5169 - val_accuracy: 0.5979\n",
            "Epoch 3/10\n",
            "108/108 [==============================] - 2s 22ms/step - loss: 1.4352 - accuracy: 0.6144 - val_loss: 1.3605 - val_accuracy: 0.6249\n",
            "Epoch 4/10\n",
            "108/108 [==============================] - 2s 22ms/step - loss: 1.3023 - accuracy: 0.6361 - val_loss: 1.2444 - val_accuracy: 0.6464\n",
            "Epoch 5/10\n",
            "108/108 [==============================] - 2s 22ms/step - loss: 1.2052 - accuracy: 0.6534 - val_loss: 1.1687 - val_accuracy: 0.6612\n",
            "Epoch 6/10\n",
            "108/108 [==============================] - 2s 22ms/step - loss: 1.1425 - accuracy: 0.6614 - val_loss: 1.1152 - val_accuracy: 0.6629\n",
            "Epoch 7/10\n",
            "108/108 [==============================] - 2s 22ms/step - loss: 1.0984 - accuracy: 0.6679 - val_loss: 1.0789 - val_accuracy: 0.6689\n",
            "Epoch 8/10\n",
            "108/108 [==============================] - 2s 22ms/step - loss: 1.0602 - accuracy: 0.6740 - val_loss: 1.0412 - val_accuracy: 0.6766\n",
            "Epoch 9/10\n",
            "108/108 [==============================] - 2s 22ms/step - loss: 1.0288 - accuracy: 0.6780 - val_loss: 1.0164 - val_accuracy: 0.6792\n",
            "Epoch 10/10\n",
            "108/108 [==============================] - 2s 22ms/step - loss: 1.0027 - accuracy: 0.6813 - val_loss: 0.9978 - val_accuracy: 0.6831\n",
            "new jersey est parfois calme en mois de il il il est en en <PAD> <PAD> <PAD> <PAD> <PAD> <PAD> <PAD>\n"
          ]
        }
      ],
      "source": [
        "def simple_model(input_shape, output_sequence_length, english_vocab_size, french_vocab_size):\n",
        "    \"\"\"\n",
        "    Build and train a basic RNN on x and y\n",
        "    :param input_shape: Tuple of input shape\n",
        "    :param output_sequence_length: Length of output sequence\n",
        "    :param english_vocab_size: Number of unique English words in the dataset\n",
        "    :param french_vocab_size: Number of unique French words in the dataset\n",
        "    :return: Keras model built, but not trained\n",
        "    \"\"\"\n",
        "    # TODO: Build the layers\n",
        "    learning_rate = 1e-3\n",
        "    unit_size = 256\n",
        "    input_sequence = Input(input_shape[1:])\n",
        "    rnn = GRU(unit_size, return_sequences=True)(input_sequence)\n",
        "    logits = TimeDistributed(Dense(french_vocab_size))(rnn)\n",
        "    model = Model(input_sequence, Activation('softmax')(logits))\n",
        "    model.compile(loss=sparse_categorical_crossentropy,\n",
        "                  optimizer=Adam(learning_rate),\n",
        "                  metrics=['accuracy'])\n",
        "    return model\n",
        "# tests.test_simple_model(simple_model)\n",
        "\n",
        "# Reshaping the input to work with a basic RNN\n",
        "simple_rnn_tmp_x = pad(preproc_english_sentences, max_french_sequence_length)\n",
        "simple_rnn_tmp_x = simple_rnn_tmp_x.reshape((-1, preproc_french_sentences.shape[-2], 1))\n",
        "\n",
        "# Train the neural network\n",
        "simple_rnn_model = simple_model(\n",
        "    simple_rnn_tmp_x.shape,\n",
        "    max_french_sequence_length,\n",
        "    english_vocab_size+1,\n",
        "    french_vocab_size+1)\n",
        "simple_rnn_model.fit(simple_rnn_tmp_x, preproc_french_sentences, batch_size=1024, epochs=10, validation_split=0.2)\n",
        "\n",
        "# # Print prediction(s)\n",
        "print(logits_to_text(simple_rnn_model.predict(simple_rnn_tmp_x[:1])[0], french_tokenizer))"
      ]
    },
    {
      "cell_type": "markdown",
      "metadata": {
        "id": "ptLMpRisbUZx"
      },
      "source": [
        "### Model 2: Embedding (IMPLEMENTATION)\n",
        "![RNN](images/embedding.png)\n",
        "You've turned the words into ids, but there's a better representation of a word.  This is called word embeddings.  An embedding is a vector representation of the word that is close to similar words in n-dimensional space, where the n represents the size of the embedding vectors.\n",
        "\n",
        "In this model, you'll create a RNN model using embedding."
      ]
    },
    {
      "cell_type": "code",
      "execution_count": 13,
      "metadata": {
        "colab": {
          "base_uri": "https://localhost:8080/"
        },
        "id": "s7lHLl_AbUZy",
        "outputId": "884ea2df-e6cd-4bf5-b02d-b0ee6b153245"
      },
      "outputs": [
        {
          "output_type": "stream",
          "name": "stdout",
          "text": [
            "Epoch 1/10\n",
            "108/108 [==============================] - 5s 34ms/step - loss: 2.9411 - accuracy: 0.4582 - val_loss: 2.0069 - val_accuracy: 0.5542\n",
            "Epoch 2/10\n",
            "108/108 [==============================] - 4s 34ms/step - loss: 1.4311 - accuracy: 0.6638 - val_loss: 1.0375 - val_accuracy: 0.7495\n",
            "Epoch 3/10\n",
            "108/108 [==============================] - 3s 30ms/step - loss: 0.8400 - accuracy: 0.7806 - val_loss: 0.6839 - val_accuracy: 0.8079\n",
            "Epoch 4/10\n",
            "108/108 [==============================] - 3s 30ms/step - loss: 0.5894 - accuracy: 0.8302 - val_loss: 0.5118 - val_accuracy: 0.8472\n",
            "Epoch 5/10\n",
            "108/108 [==============================] - 3s 30ms/step - loss: 0.4646 - accuracy: 0.8600 - val_loss: 0.4268 - val_accuracy: 0.8686\n",
            "Epoch 6/10\n",
            "108/108 [==============================] - 3s 30ms/step - loss: 0.3908 - accuracy: 0.8789 - val_loss: 0.3597 - val_accuracy: 0.8878\n",
            "Epoch 7/10\n",
            "108/108 [==============================] - 3s 30ms/step - loss: 0.3389 - accuracy: 0.8937 - val_loss: 0.3191 - val_accuracy: 0.8998\n",
            "Epoch 8/10\n",
            "108/108 [==============================] - 3s 30ms/step - loss: 0.3065 - accuracy: 0.9028 - val_loss: 0.2966 - val_accuracy: 0.9062\n",
            "Epoch 9/10\n",
            "108/108 [==============================] - 3s 30ms/step - loss: 0.2806 - accuracy: 0.9102 - val_loss: 0.2761 - val_accuracy: 0.9121\n",
            "Epoch 10/10\n",
            "108/108 [==============================] - 3s 30ms/step - loss: 0.2601 - accuracy: 0.9163 - val_loss: 0.2569 - val_accuracy: 0.9170\n",
            "new jersey est parfois calme en l' et il est neigeux en avril <PAD> <PAD> <PAD> <PAD> <PAD> <PAD> <PAD> <PAD>\n"
          ]
        }
      ],
      "source": [
        "def embed_model(input_shape, output_sequence_length, english_vocab_size, french_vocab_size):\n",
        "    \"\"\"\n",
        "    Build and train a RNN model using word embedding on x and y\n",
        "    :param input_shape: Tuple of input shape\n",
        "    :param output_sequence_length: Length of output sequence\n",
        "    :param english_vocab_size: Number of unique English words in the dataset\n",
        "    :param french_vocab_size: Number of unique French words in the dataset\n",
        "    :return: Keras model built, but not trained\n",
        "    \"\"\"\n",
        "    # TODO: Implement\n",
        "    embedding_size = 300\n",
        "    unit_size = 256\n",
        "    learning_rate = 1e-3\n",
        "    input_sequence = Input(input_shape[1:])\n",
        "    embedding = Embedding(english_vocab_size, embedding_size)(input_sequence)\n",
        "    rnn = GRU(unit_size, return_sequences=True)(embedding)\n",
        "    logits = TimeDistributed(Dense(french_vocab_size))(rnn)\n",
        "    model = Model(input_sequence, Activation('softmax')(logits))\n",
        "    model.compile(loss=sparse_categorical_crossentropy,\n",
        "                  optimizer=Adam(learning_rate),\n",
        "                  metrics=['accuracy'])\n",
        "    return model\n",
        "# tests.test_embed_model(embed_model)\n",
        "\n",
        "# TODO: Reshape the input\n",
        "embed_rnn_tmp_x = pad(preproc_english_sentences, max_french_sequence_length)\n",
        "embed_rnn_tmp_x = embed_rnn_tmp_x.reshape((-1, preproc_french_sentences.shape[-2]))\n",
        "\n",
        "# TODO: Train the neural network\n",
        "embed_rnn_model = embed_model(\n",
        "    embed_rnn_tmp_x.shape,\n",
        "    max_french_sequence_length,\n",
        "    english_vocab_size+1,\n",
        "    french_vocab_size+1)\n",
        "embed_rnn_model.fit(embed_rnn_tmp_x, preproc_french_sentences, batch_size=1024, epochs=10, validation_split=0.2)\n",
        "\n",
        "# # TODO: Print prediction(s)\n",
        "print(logits_to_text(embed_rnn_model.predict(embed_rnn_tmp_x[:1])[0], french_tokenizer))"
      ]
    },
    {
      "cell_type": "markdown",
      "metadata": {
        "id": "5sTsj0C9bUZy"
      },
      "source": [
        "### Model 3: Bidirectional RNNs (IMPLEMENTATION)\n",
        "![RNN](images/bidirectional.png)\n",
        "One restriction of a RNN is that it can't see the future input, only the past.  This is where bidirectional recurrent neural networks come in.  They are able to see the future data."
      ]
    },
    {
      "cell_type": "code",
      "execution_count": 14,
      "metadata": {
        "colab": {
          "base_uri": "https://localhost:8080/"
        },
        "id": "AHM42RoKbUZy",
        "outputId": "1d0bb6c3-1e7c-4e08-91a8-1ac9552ffbc3"
      },
      "outputs": [
        {
          "output_type": "stream",
          "name": "stderr",
          "text": [
            "WARNING:tensorflow:Layer gru_2 will not use cuDNN kernels since it doesn't meet the criteria. It will use a generic GPU kernel as fallback when running on GPU.\n",
            "WARNING:tensorflow:Layer gru_2 will not use cuDNN kernels since it doesn't meet the criteria. It will use a generic GPU kernel as fallback when running on GPU.\n",
            "WARNING:tensorflow:Layer gru_2 will not use cuDNN kernels since it doesn't meet the criteria. It will use a generic GPU kernel as fallback when running on GPU.\n"
          ]
        },
        {
          "output_type": "stream",
          "name": "stdout",
          "text": [
            "Epoch 1/10\n",
            "108/108 [==============================] - 14s 107ms/step - loss: 2.0558 - accuracy: 0.5514 - val_loss: 1.3369 - val_accuracy: 0.6213\n",
            "Epoch 2/10\n",
            "108/108 [==============================] - 12s 108ms/step - loss: 1.2225 - accuracy: 0.6416 - val_loss: 1.2213 - val_accuracy: 0.6310\n",
            "Epoch 3/10\n",
            "108/108 [==============================] - 12s 107ms/step - loss: 1.1082 - accuracy: 0.6635 - val_loss: 1.0577 - val_accuracy: 0.6761\n",
            "Epoch 4/10\n",
            "108/108 [==============================] - 11s 106ms/step - loss: 1.0332 - accuracy: 0.6787 - val_loss: 1.0082 - val_accuracy: 0.6847\n",
            "Epoch 5/10\n",
            "108/108 [==============================] - 11s 104ms/step - loss: 0.9845 - accuracy: 0.6874 - val_loss: 0.9674 - val_accuracy: 0.6902\n",
            "Epoch 6/10\n",
            "108/108 [==============================] - 13s 118ms/step - loss: 0.9439 - accuracy: 0.6950 - val_loss: 0.9269 - val_accuracy: 0.6951\n",
            "Epoch 7/10\n",
            "108/108 [==============================] - 11s 104ms/step - loss: 0.9236 - accuracy: 0.6983 - val_loss: 0.9003 - val_accuracy: 0.6987\n",
            "Epoch 8/10\n",
            "108/108 [==============================] - 11s 104ms/step - loss: 0.8942 - accuracy: 0.7030 - val_loss: 0.8819 - val_accuracy: 0.7079\n",
            "Epoch 9/10\n",
            "108/108 [==============================] - 11s 105ms/step - loss: 0.8763 - accuracy: 0.7052 - val_loss: 0.9082 - val_accuracy: 0.6926\n",
            "Epoch 10/10\n",
            "108/108 [==============================] - 11s 104ms/step - loss: 0.8547 - accuracy: 0.7100 - val_loss: 0.8368 - val_accuracy: 0.7164\n",
            "new jersey est parfois calme en mois et il il il il en <PAD> <PAD> <PAD> <PAD> <PAD> <PAD> <PAD> <PAD>\n"
          ]
        }
      ],
      "source": [
        "def bd_model(input_shape, output_sequence_length, english_vocab_size, french_vocab_size):\n",
        "    \"\"\"\n",
        "    Build and train a bidirectional RNN model on x and y\n",
        "    :param input_shape: Tuple of input shape\n",
        "    :param output_sequence_length: Length of output sequence\n",
        "    :param english_vocab_size: Number of unique English words in the dataset\n",
        "    :param french_vocab_size: Number of unique French words in the dataset\n",
        "    :return: Keras model built, but not trained\n",
        "    \"\"\"\n",
        "    # TODO: Implement\n",
        "    embedding_size = 300\n",
        "    unit_size = 256\n",
        "    learning_rate = 1e-3\n",
        "    input_sequence = Input(input_shape[1:])\n",
        "    bidirectional = Bidirectional(GRU(unit_size, return_sequences=True, activation='relu'))(input_sequence)\n",
        "    logits = TimeDistributed(Dense(french_vocab_size))(bidirectional)\n",
        "    model = Model(input_sequence, Activation('softmax')(logits))\n",
        "    model.compile(loss=sparse_categorical_crossentropy,\n",
        "                  optimizer=Adam(learning_rate),\n",
        "                  metrics=['accuracy'])\n",
        "    return model\n",
        "# tests.test_bd_model(bd_model)\n",
        "\n",
        "# TODO: Train and Print prediction(s)\n",
        "bd_rnn_tmp_x = pad(preproc_english_sentences, max_french_sequence_length)\n",
        "bd_rnn_tmp_x = bd_rnn_tmp_x.reshape((-1, preproc_french_sentences.shape[-2], 1))\n",
        "\n",
        "# TODO: Train the neural network\n",
        "bd_rnn_model = bd_model(\n",
        "    bd_rnn_tmp_x.shape,\n",
        "    max_french_sequence_length,\n",
        "    english_vocab_size+1,\n",
        "    french_vocab_size+1)\n",
        "bd_rnn_model.fit(bd_rnn_tmp_x, preproc_french_sentences, batch_size=1024, epochs=10, validation_split=0.2)\n",
        "\n",
        "# # TODO: Print prediction(s)\n",
        "print(logits_to_text(bd_rnn_model.predict(bd_rnn_tmp_x[:1])[0], french_tokenizer))"
      ]
    },
    {
      "cell_type": "markdown",
      "metadata": {
        "id": "ZfGbbw9FbUZy"
      },
      "source": [
        "### Model 4: Encoder-Decoder (IMPLEMENTATION)\n",
        "Time to look at encoder-decoder models.  This model is made up of an encoder and decoder. The encoder creates a matrix representation of the sentence.  The decoder takes this matrix as input and predicts the translation as output.\n",
        "\n",
        "Create an encoder-decoder model in the cell below."
      ]
    },
    {
      "cell_type": "code",
      "execution_count": 15,
      "metadata": {
        "colab": {
          "base_uri": "https://localhost:8080/"
        },
        "id": "huQFiAzubUZy",
        "outputId": "4bbfb1c8-0dda-4336-95b9-904a174e53ec"
      },
      "outputs": [
        {
          "output_type": "stream",
          "name": "stderr",
          "text": [
            "WARNING:tensorflow:Layer gru_3 will not use cuDNN kernels since it doesn't meet the criteria. It will use a generic GPU kernel as fallback when running on GPU.\n",
            "WARNING:tensorflow:Layer gru_3 will not use cuDNN kernels since it doesn't meet the criteria. It will use a generic GPU kernel as fallback when running on GPU.\n",
            "WARNING:tensorflow:Layer gru_3 will not use cuDNN kernels since it doesn't meet the criteria. It will use a generic GPU kernel as fallback when running on GPU.\n",
            "WARNING:tensorflow:Layer gru_4 will not use cuDNN kernels since it doesn't meet the criteria. It will use a generic GPU kernel as fallback when running on GPU.\n",
            "WARNING:tensorflow:Layer gru_4 will not use cuDNN kernels since it doesn't meet the criteria. It will use a generic GPU kernel as fallback when running on GPU.\n",
            "WARNING:tensorflow:Layer gru_4 will not use cuDNN kernels since it doesn't meet the criteria. It will use a generic GPU kernel as fallback when running on GPU.\n"
          ]
        },
        {
          "output_type": "stream",
          "name": "stdout",
          "text": [
            "Epoch 1/10\n",
            "108/108 [==============================] - 27s 214ms/step - loss: 2.0924 - accuracy: 0.5224 - val_loss: 1.4130 - val_accuracy: 0.6024\n",
            "Epoch 2/10\n",
            "108/108 [==============================] - 22s 200ms/step - loss: 1.2958 - accuracy: 0.6246 - val_loss: 1.2311 - val_accuracy: 0.6360\n",
            "Epoch 3/10\n",
            "108/108 [==============================] - 22s 200ms/step - loss: 1.1487 - accuracy: 0.6511 - val_loss: 1.0889 - val_accuracy: 0.6658\n",
            "Epoch 4/10\n",
            "108/108 [==============================] - 22s 202ms/step - loss: 1.0771 - accuracy: 0.6664 - val_loss: 1.0244 - val_accuracy: 0.6804\n",
            "Epoch 5/10\n",
            "108/108 [==============================] - 22s 199ms/step - loss: 1.0123 - accuracy: 0.6789 - val_loss: 0.9893 - val_accuracy: 0.6791\n",
            "Epoch 6/10\n",
            "108/108 [==============================] - 23s 217ms/step - loss: 0.9662 - accuracy: 0.6871 - val_loss: 0.9301 - val_accuracy: 0.6948\n",
            "Epoch 7/10\n",
            "108/108 [==============================] - 22s 203ms/step - loss: 0.9105 - accuracy: 0.6986 - val_loss: 0.8825 - val_accuracy: 0.7067\n",
            "Epoch 8/10\n",
            "108/108 [==============================] - 22s 201ms/step - loss: 0.8728 - accuracy: 0.7060 - val_loss: 0.8214 - val_accuracy: 0.7220\n",
            "Epoch 9/10\n",
            "108/108 [==============================] - 22s 203ms/step - loss: 0.8382 - accuracy: 0.7141 - val_loss: 0.7879 - val_accuracy: 0.7271\n",
            "Epoch 10/10\n",
            "108/108 [==============================] - 23s 210ms/step - loss: 0.8034 - accuracy: 0.7203 - val_loss: 0.7539 - val_accuracy: 0.7346\n",
            "new jersey est parfois calme au mois de mai et il en en <PAD> <PAD> <PAD> <PAD> <PAD> <PAD> <PAD> <PAD>\n"
          ]
        }
      ],
      "source": [
        "def encdec_model(input_shape, output_sequence_length, english_vocab_size, french_vocab_size):\n",
        "    \"\"\"\n",
        "    Build and train an encoder-decoder model on x and y\n",
        "    :param input_shape: Tuple of input shape\n",
        "    :param output_sequence_length: Length of output sequence\n",
        "    :param english_vocab_size: Number of unique English words in the dataset\n",
        "    :param french_vocab_size: Number of unique French words in the dataset\n",
        "    :return: Keras model built, but not trained\n",
        "    \"\"\"\n",
        "    # TODO: Implement\n",
        "    embedding_size = 300\n",
        "    unit_size = 256\n",
        "    learning_rate = 1e-3\n",
        "    input_sequence = Input(input_shape[1:])\n",
        "    enc_output = Bidirectional(GRU(unit_size, return_sequences=False, activation='relu'))(input_sequence)\n",
        "    enc_repeat = RepeatVector(output_sequence_length)(enc_output)\n",
        "    dec_output= Bidirectional(GRU(unit_size, return_sequences=True, activation='relu'))(enc_repeat)\n",
        "    logits = TimeDistributed(Dense(french_vocab_size))(dec_output)\n",
        "    model = Model(input_sequence, Activation('softmax')(logits))\n",
        "    model.compile(loss=sparse_categorical_crossentropy,\n",
        "                  optimizer=Adam(learning_rate),\n",
        "                  metrics=['accuracy'])\n",
        "    return model\n",
        "# tests.test_encdec_model(encdec_model)\n",
        "\n",
        "# TODO: Train and Print prediction(s)\n",
        "encdec_rnn_tmp_x = pad(preproc_english_sentences, max_english_sequence_length)\n",
        "encdec_rnn_tmp_x = encdec_rnn_tmp_x.reshape((-1, preproc_english_sentences.shape[-1], 1))\n",
        "\n",
        "# TODO: Train the neural network\n",
        "encdec_rnn_model = encdec_model(\n",
        "    encdec_rnn_tmp_x.shape,\n",
        "    max_french_sequence_length,\n",
        "    english_vocab_size+1,\n",
        "    french_vocab_size+1)\n",
        "\n",
        "encdec_rnn_model.fit(encdec_rnn_tmp_x, preproc_french_sentences, batch_size=1024, epochs=10, validation_split=0.2)\n",
        "\n",
        "# # TODO: Print prediction(s)\n",
        "print(logits_to_text(encdec_rnn_model.predict(encdec_rnn_tmp_x[:1])[0], french_tokenizer))"
      ]
    },
    {
      "cell_type": "markdown",
      "metadata": {
        "id": "Baqf_Y-dbUZy"
      },
      "source": [
        "### Model 5: Custom (IMPLEMENTATION)\n",
        "Use everything you learned from the previous models to create a model that incorporates embedding and a bidirectional rnn into one model."
      ]
    },
    {
      "cell_type": "code",
      "execution_count": 16,
      "metadata": {
        "id": "AXrXIbQ0bUZz",
        "colab": {
          "base_uri": "https://localhost:8080/"
        },
        "outputId": "d25f9ab0-600c-43ce-b7e6-ea95ecc01ee2"
      },
      "outputs": [
        {
          "output_type": "stream",
          "name": "stderr",
          "text": [
            "WARNING:tensorflow:Layer gru_5 will not use cuDNN kernels since it doesn't meet the criteria. It will use a generic GPU kernel as fallback when running on GPU.\n",
            "WARNING:tensorflow:Layer gru_5 will not use cuDNN kernels since it doesn't meet the criteria. It will use a generic GPU kernel as fallback when running on GPU.\n",
            "WARNING:tensorflow:Layer gru_5 will not use cuDNN kernels since it doesn't meet the criteria. It will use a generic GPU kernel as fallback when running on GPU.\n",
            "WARNING:tensorflow:Layer gru_6 will not use cuDNN kernels since it doesn't meet the criteria. It will use a generic GPU kernel as fallback when running on GPU.\n",
            "WARNING:tensorflow:Layer gru_6 will not use cuDNN kernels since it doesn't meet the criteria. It will use a generic GPU kernel as fallback when running on GPU.\n"
          ]
        },
        {
          "output_type": "stream",
          "name": "stdout",
          "text": [
            "Final Model Loaded\n"
          ]
        },
        {
          "output_type": "stream",
          "name": "stderr",
          "text": [
            "WARNING:tensorflow:Layer gru_6 will not use cuDNN kernels since it doesn't meet the criteria. It will use a generic GPU kernel as fallback when running on GPU.\n"
          ]
        },
        {
          "output_type": "stream",
          "name": "stdout",
          "text": [
            "Epoch 1/10\n",
            "108/108 [==============================] - 28s 223ms/step - loss: 2.7078 - accuracy: 0.4632 - val_loss: 1.8357 - val_accuracy: 0.5458\n",
            "Epoch 2/10\n",
            "108/108 [==============================] - 23s 216ms/step - loss: 1.5286 - accuracy: 0.6052 - val_loss: 1.2206 - val_accuracy: 0.6653\n",
            "Epoch 3/10\n",
            "108/108 [==============================] - 25s 233ms/step - loss: 1.0500 - accuracy: 0.7055 - val_loss: 0.8758 - val_accuracy: 0.7429\n",
            "Epoch 4/10\n",
            "108/108 [==============================] - 23s 216ms/step - loss: 0.8705 - accuracy: 0.7448 - val_loss: 0.8591 - val_accuracy: 0.7435\n",
            "Epoch 5/10\n",
            "108/108 [==============================] - 23s 215ms/step - loss: 0.6647 - accuracy: 0.7983 - val_loss: 0.5888 - val_accuracy: 0.8193\n",
            "Epoch 6/10\n",
            "108/108 [==============================] - 24s 220ms/step - loss: 0.5186 - accuracy: 0.8385 - val_loss: 0.4823 - val_accuracy: 0.8497\n",
            "Epoch 7/10\n",
            "108/108 [==============================] - 25s 233ms/step - loss: 0.4024 - accuracy: 0.8717 - val_loss: 0.3611 - val_accuracy: 0.8840\n",
            "Epoch 8/10\n",
            "108/108 [==============================] - 25s 229ms/step - loss: 0.3104 - accuracy: 0.9005 - val_loss: 0.2906 - val_accuracy: 0.9069\n",
            "Epoch 9/10\n",
            "108/108 [==============================] - 24s 221ms/step - loss: 0.2512 - accuracy: 0.9195 - val_loss: 0.2224 - val_accuracy: 0.9301\n",
            "Epoch 10/10\n",
            "108/108 [==============================] - 23s 216ms/step - loss: 0.2518 - accuracy: 0.9210 - val_loss: 0.2397 - val_accuracy: 0.9253\n"
          ]
        },
        {
          "output_type": "stream",
          "name": "stderr",
          "text": [
            "WARNING:tensorflow:5 out of the last 5 calls to <function Model.make_predict_function.<locals>.predict_function at 0x7f19bf846950> triggered tf.function retracing. Tracing is expensive and the excessive number of tracings could be due to (1) creating @tf.function repeatedly in a loop, (2) passing tensors with different shapes, (3) passing Python objects instead of tensors. For (1), please define your @tf.function outside of the loop. For (2), @tf.function has experimental_relax_shapes=True option that relaxes argument shapes that can avoid unnecessary retracing. For (3), please refer to https://www.tensorflow.org/guide/function#controlling_retracing and https://www.tensorflow.org/api_docs/python/tf/function for  more details.\n"
          ]
        },
        {
          "output_type": "stream",
          "name": "stdout",
          "text": [
            "new jersey est parfois calme en cours et l' automne est il en avril <PAD> <PAD> <PAD> <PAD> <PAD> <PAD> <PAD>\n"
          ]
        }
      ],
      "source": [
        "def model_final(input_shape, output_sequence_length, english_vocab_size, french_vocab_size):\n",
        "    \"\"\"\n",
        "    Build and train a model that incorporates embedding, encoder-decoder, and bidirectional RNN on x and y\n",
        "    :param input_shape: Tuple of input shape\n",
        "    :param output_sequence_length: Length of output sequence\n",
        "    :param english_vocab_size: Number of unique English words in the dataset\n",
        "    :param french_vocab_size: Number of unique French words in the dataset\n",
        "    :return: Keras model built, but not trained\n",
        "    \"\"\"\n",
        "    # TODO: Implement\n",
        "    embedding_size = 300\n",
        "    unit_size = 256\n",
        "    learning_rate = 1e-3\n",
        "    input_sequence = Input(input_shape[1:])\n",
        "    input_vector = Embedding(english_vocab_size, embedding_size)(input_sequence)\n",
        "    enc_output = Bidirectional(GRU(unit_size, return_sequences=False, activation='relu'))(input_vector)\n",
        "    enc_repeat = RepeatVector(output_sequence_length)(enc_output)\n",
        "    dec_output= Bidirectional(GRU(unit_size, return_sequences=True, activation='relu'))(enc_repeat)\n",
        "    logits = TimeDistributed(Dense(french_vocab_size))(dec_output)\n",
        "    model = Model(input_sequence, Activation('softmax')(logits))\n",
        "    model.compile(loss=sparse_categorical_crossentropy,\n",
        "                  optimizer=Adam(learning_rate),\n",
        "                  metrics=['accuracy'])\n",
        "    return model\n",
        "# tests.test_model_final(model_final)\n",
        "\n",
        "print('Final Model Loaded')\n",
        "# TODO: Train the final model\n",
        "# final_rnn_tmp_x = pad(preproc_english_sentences, max_english_sequence_length)\n",
        "# final_rnn_tmp_x = final_rnn_tmp_x.reshape((-1, preproc_english_sentences.shape[-1]))\n",
        "\n",
        "# TODO: Train the neural network\n",
        "final_rnn_model = model_final(\n",
        "    preproc_english_sentences.shape,\n",
        "    max_french_sequence_length,\n",
        "    english_vocab_size+1,\n",
        "    french_vocab_size+1)\n",
        "\n",
        "final_rnn_model.fit(preproc_english_sentences, preproc_french_sentences, batch_size=1024, epochs=10, validation_split=0.2)\n",
        "\n",
        "# # # TODO: Print prediction(s)\n",
        "print(logits_to_text(final_rnn_model.predict(preproc_english_sentences[:1])[0], french_tokenizer))"
      ]
    },
    {
      "cell_type": "markdown",
      "metadata": {
        "id": "7lqE3Xn7bUZz"
      },
      "source": [
        "## Prediction (IMPLEMENTATION)"
      ]
    },
    {
      "cell_type": "code",
      "execution_count": 17,
      "metadata": {
        "id": "nrcgIOY_bUZz",
        "colab": {
          "base_uri": "https://localhost:8080/"
        },
        "outputId": "f4051aa4-6d15-4e05-820f-356a58d718e4"
      },
      "outputs": [
        {
          "output_type": "stream",
          "name": "stderr",
          "text": [
            "WARNING:tensorflow:Layer gru_7 will not use cuDNN kernels since it doesn't meet the criteria. It will use a generic GPU kernel as fallback when running on GPU.\n",
            "WARNING:tensorflow:Layer gru_7 will not use cuDNN kernels since it doesn't meet the criteria. It will use a generic GPU kernel as fallback when running on GPU.\n",
            "WARNING:tensorflow:Layer gru_7 will not use cuDNN kernels since it doesn't meet the criteria. It will use a generic GPU kernel as fallback when running on GPU.\n",
            "WARNING:tensorflow:Layer gru_8 will not use cuDNN kernels since it doesn't meet the criteria. It will use a generic GPU kernel as fallback when running on GPU.\n",
            "WARNING:tensorflow:Layer gru_8 will not use cuDNN kernels since it doesn't meet the criteria. It will use a generic GPU kernel as fallback when running on GPU.\n",
            "WARNING:tensorflow:Layer gru_8 will not use cuDNN kernels since it doesn't meet the criteria. It will use a generic GPU kernel as fallback when running on GPU.\n"
          ]
        },
        {
          "output_type": "stream",
          "name": "stdout",
          "text": [
            "Epoch 1/10\n",
            "108/108 [==============================] - 28s 223ms/step - loss: 2.7858 - accuracy: 0.4593 - val_loss: nan - val_accuracy: 0.5344\n",
            "Epoch 2/10\n",
            "108/108 [==============================] - 24s 219ms/step - loss: 1.5225 - accuracy: 0.6034 - val_loss: nan - val_accuracy: 0.6615\n",
            "Epoch 3/10\n",
            "108/108 [==============================] - 23s 216ms/step - loss: 1.1125 - accuracy: 0.6912 - val_loss: nan - val_accuracy: 0.7291\n",
            "Epoch 4/10\n",
            "108/108 [==============================] - 25s 232ms/step - loss: 0.8668 - accuracy: 0.7456 - val_loss: nan - val_accuracy: 0.7666\n",
            "Epoch 5/10\n",
            "108/108 [==============================] - 24s 221ms/step - loss: 0.7133 - accuracy: 0.7840 - val_loss: nan - val_accuracy: 0.8063\n",
            "Epoch 6/10\n",
            "108/108 [==============================] - 23s 217ms/step - loss: 0.6564 - accuracy: 0.8021 - val_loss: nan - val_accuracy: 0.6917\n",
            "Epoch 7/10\n",
            "108/108 [==============================] - 24s 218ms/step - loss: 0.5663 - accuracy: 0.8252 - val_loss: nan - val_accuracy: 0.8678\n",
            "Epoch 8/10\n",
            "108/108 [==============================] - 25s 235ms/step - loss: 0.3739 - accuracy: 0.8815 - val_loss: nan - val_accuracy: 0.8948\n",
            "Epoch 9/10\n",
            "108/108 [==============================] - 23s 217ms/step - loss: 0.3060 - accuracy: 0.9032 - val_loss: nan - val_accuracy: 0.9079\n",
            "Epoch 10/10\n",
            "108/108 [==============================] - 23s 215ms/step - loss: 0.2487 - accuracy: 0.9209 - val_loss: nan - val_accuracy: 0.9270\n"
          ]
        },
        {
          "output_type": "stream",
          "name": "stderr",
          "text": [
            "WARNING:tensorflow:6 out of the last 6 calls to <function Model.make_predict_function.<locals>.predict_function at 0x7f19be61def0> triggered tf.function retracing. Tracing is expensive and the excessive number of tracings could be due to (1) creating @tf.function repeatedly in a loop, (2) passing tensors with different shapes, (3) passing Python objects instead of tensors. For (1), please define your @tf.function outside of the loop. For (2), @tf.function has experimental_relax_shapes=True option that relaxes argument shapes that can avoid unnecessary retracing. For (3), please refer to https://www.tensorflow.org/guide/function#controlling_retracing and https://www.tensorflow.org/api_docs/python/tf/function for  more details.\n"
          ]
        },
        {
          "output_type": "stream",
          "name": "stdout",
          "text": [
            "Sample 1:\n",
            "il a vu un vieux camion jaune <PAD> <PAD> <PAD> <PAD> <PAD> <PAD> <PAD> <PAD> <PAD> <PAD> <PAD> <PAD> <PAD> <PAD>\n",
            "Il a vu un vieux camion jaune\n",
            "Sample 2:\n",
            "new jersey est parfois calme pendant l' automne et il est neigeux en avril <PAD> <PAD> <PAD> <PAD> <PAD> <PAD> <PAD>\n",
            "new jersey est parfois calme pendant l' automne et il est neigeux en avril <PAD> <PAD> <PAD> <PAD> <PAD> <PAD> <PAD>\n"
          ]
        }
      ],
      "source": [
        "def final_predictions(x, y, x_tk, y_tk):\n",
        "    \"\"\"\n",
        "    Gets predictions using the final model\n",
        "    :param x: Preprocessed English data\n",
        "    :param y: Preprocessed French data\n",
        "    :param x_tk: English tokenizer\n",
        "    :param y_tk: French tokenizer\n",
        "    \"\"\"\n",
        "    # TODO: Train neural network using model_final\n",
        "    tmp_x = pad(x, x.shape[1])\n",
        "    tmp_x = tmp_x.reshape((-1, x.shape[-1]))\n",
        "\n",
        "    model = model_final(\n",
        "        tmp_x.shape,\n",
        "        y.shape[1],\n",
        "        len(x_tk.word_index),\n",
        "        len(y_tk.word_index)\n",
        "    )\n",
        "    model.fit(tmp_x, y, batch_size=1024, epochs=10, validation_split=0.2)\n",
        "    \n",
        "    ## DON'T EDIT ANYTHING BELOW THIS LINE\n",
        "    y_id_to_word = {value: key for key, value in y_tk.word_index.items()}\n",
        "    y_id_to_word[0] = '<PAD>'\n",
        "\n",
        "    sentence = 'he saw a old yellow truck'\n",
        "    sentence = [x_tk.word_index[word] for word in sentence.split()]\n",
        "    sentence = pad_sequences([sentence], maxlen=x.shape[-1], padding='post')\n",
        "    sentences = np.array([sentence[0], x[0]])\n",
        "    predictions = model.predict(sentences, len(sentences))\n",
        "\n",
        "    print('Sample 1:')\n",
        "    print(' '.join([y_id_to_word[np.argmax(x)] for x in predictions[0]]))\n",
        "    print('Il a vu un vieux camion jaune')\n",
        "    print('Sample 2:')\n",
        "    print(' '.join([y_id_to_word[np.argmax(x)] for x in predictions[1]]))\n",
        "    print(' '.join([y_id_to_word[np.max(x)] for x in y[0]]))\n",
        "\n",
        "\n",
        "final_predictions(preproc_english_sentences, preproc_french_sentences, english_tokenizer, french_tokenizer)"
      ]
    },
    {
      "cell_type": "markdown",
      "metadata": {
        "id": "opKohuV-bUZ0"
      },
      "source": [
        "## Optional Enhancements\n",
        "\n",
        "This project focuses on learning various network architectures for machine translation, but we don't evaluate the models according to best practices by splitting the data into separate test & training sets -- so the model accuracy is overstated. Use the [`sklearn.model_selection.train_test_split()`](http://scikit-learn.org/stable/modules/generated/sklearn.model_selection.train_test_split.html) function to create separate training & test datasets, then retrain each of the models using only the training set and evaluate the prediction accuracy using the hold out test set. Does the \"best\" model change?"
      ]
    },
    {
      "cell_type": "code",
      "source": [
        "from sklearn.model_selection import train_test_split\n",
        "\n",
        "def split_predictions(x, y, x_tk, y_tk):\n",
        "  X_train, X_test, y_train, y_test = train_test_split(x, y, test_size=0.2, random_state=42)\n",
        "  tmp_x = pad(X_train, X_train.shape[1])\n",
        "  tmp_x = tmp_x.reshape((-1, X_train.shape[-1]))\n",
        "  model = model_final(\n",
        "      tmp_x.shape,\n",
        "      y.shape[1],\n",
        "      len(x_tk.word_index),\n",
        "      len(y_tk.word_index))\n",
        "  \n",
        "  model.fit(tmp_x, y_train, batch_size=1024, epochs=10, validation_split=0.2)\n",
        "  eval_score = model.evaluate(X_test, y_test, batch_size=256)\n",
        "  print(eval_score)\n",
        "\n",
        "split_predictions(preproc_english_sentences, preproc_french_sentences, english_tokenizer, french_tokenizer)"
      ],
      "metadata": {
        "colab": {
          "base_uri": "https://localhost:8080/"
        },
        "id": "dtj0_Q7G6ArT",
        "outputId": "8a3a4cbc-ad46-49bf-c71f-2a945ff1812a"
      },
      "execution_count": 18,
      "outputs": [
        {
          "output_type": "stream",
          "name": "stderr",
          "text": [
            "WARNING:tensorflow:Layer gru_9 will not use cuDNN kernels since it doesn't meet the criteria. It will use a generic GPU kernel as fallback when running on GPU.\n",
            "WARNING:tensorflow:Layer gru_9 will not use cuDNN kernels since it doesn't meet the criteria. It will use a generic GPU kernel as fallback when running on GPU.\n",
            "WARNING:tensorflow:Layer gru_9 will not use cuDNN kernels since it doesn't meet the criteria. It will use a generic GPU kernel as fallback when running on GPU.\n",
            "WARNING:tensorflow:Layer gru_10 will not use cuDNN kernels since it doesn't meet the criteria. It will use a generic GPU kernel as fallback when running on GPU.\n",
            "WARNING:tensorflow:Layer gru_10 will not use cuDNN kernels since it doesn't meet the criteria. It will use a generic GPU kernel as fallback when running on GPU.\n",
            "WARNING:tensorflow:Layer gru_10 will not use cuDNN kernels since it doesn't meet the criteria. It will use a generic GPU kernel as fallback when running on GPU.\n"
          ]
        },
        {
          "output_type": "stream",
          "name": "stdout",
          "text": [
            "Epoch 1/10\n",
            "87/87 [==============================] - 23s 220ms/step - loss: nan - accuracy: 0.4080 - val_loss: nan - val_accuracy: 0.4093\n",
            "Epoch 2/10\n",
            "87/87 [==============================] - 21s 236ms/step - loss: nan - accuracy: 0.4082 - val_loss: nan - val_accuracy: 0.4093\n",
            "Epoch 3/10\n",
            "87/87 [==============================] - 19s 213ms/step - loss: nan - accuracy: 0.4082 - val_loss: nan - val_accuracy: 0.4093\n",
            "Epoch 4/10\n",
            "87/87 [==============================] - 19s 214ms/step - loss: nan - accuracy: 0.4082 - val_loss: nan - val_accuracy: 0.4093\n",
            "Epoch 5/10\n",
            "87/87 [==============================] - 19s 215ms/step - loss: nan - accuracy: 0.4082 - val_loss: nan - val_accuracy: 0.4093\n",
            "Epoch 6/10\n",
            "87/87 [==============================] - 19s 214ms/step - loss: nan - accuracy: 0.4082 - val_loss: nan - val_accuracy: 0.4093\n",
            "Epoch 7/10\n",
            "87/87 [==============================] - 20s 234ms/step - loss: nan - accuracy: 0.4082 - val_loss: nan - val_accuracy: 0.4093\n",
            "Epoch 8/10\n",
            "87/87 [==============================] - 19s 213ms/step - loss: nan - accuracy: 0.4082 - val_loss: nan - val_accuracy: 0.4093\n",
            "Epoch 9/10\n",
            "87/87 [==============================] - 19s 213ms/step - loss: nan - accuracy: 0.4082 - val_loss: nan - val_accuracy: 0.4093\n",
            "Epoch 10/10\n",
            "87/87 [==============================] - 19s 216ms/step - loss: nan - accuracy: 0.4082 - val_loss: nan - val_accuracy: 0.4093\n",
            "108/108 [==============================] - 2s 19ms/step - loss: nan - accuracy: 0.4085\n",
            "[nan, 0.4084603190422058]\n"
          ]
        }
      ]
    },
    {
      "cell_type": "code",
      "source": [
        ""
      ],
      "metadata": {
        "id": "xwrBnmen9b-1"
      },
      "execution_count": 18,
      "outputs": []
    }
  ],
  "metadata": {
    "kernelspec": {
      "display_name": "Python 3",
      "language": "python",
      "name": "python3"
    },
    "language_info": {
      "codemirror_mode": {
        "name": "ipython",
        "version": 3
      },
      "file_extension": ".py",
      "mimetype": "text/x-python",
      "name": "python",
      "nbconvert_exporter": "python",
      "pygments_lexer": "ipython3",
      "version": "3.6.3"
    },
    "colab": {
      "name": "machine_translation.ipynb",
      "provenance": []
    },
    "gpuClass": "standard",
    "accelerator": "GPU"
  },
  "nbformat": 4,
  "nbformat_minor": 0
}